{
 "cells": [
  {
   "cell_type": "markdown",
   "id": "c464b99d",
   "metadata": {},
   "source": [
    "1- Bir listeyi düzleştiren (flatten) fonksiyon yazın. \n",
    "Elemanları birden çok katmanlı listelerden ([[3],2] gibi) oluşabileceği gibi, \n",
    "non-scalar verilerden de oluşabilir."
   ]
  },
  {
   "cell_type": "code",
   "execution_count": 1,
   "id": "f4ad0928",
   "metadata": {},
   "outputs": [
    {
     "name": "stdout",
     "output_type": "stream",
     "text": [
      "[1, 'a', 'cat', 2, 3, 'dog', 4, 5]\n"
     ]
    }
   ],
   "source": [
    "l=[[1,'a',['cat'],2],[[[3]],'dog'],4,5]\n",
    "l1 = []\n",
    "def flatten (l):\n",
    "    for i in l:\n",
    "        if isinstance (i,list):\n",
    "            flatten(i)\n",
    "        else:\n",
    "            l1.append(i)\n",
    "flatten(l)\n",
    "print(l1)\n",
    "            "
   ]
  },
  {
   "cell_type": "markdown",
   "id": "03db8c4f",
   "metadata": {},
   "source": [
    "\n",
    "2- Verilen listenin içindeki elemanları tersine döndüren bir fonksiyon yazın. Eğer listenin içindeki elemanlar da liste içeriyorsa onların elemanlarını da tersine döndürün."
   ]
  },
  {
   "cell_type": "code",
   "execution_count": 8,
   "id": "cfc2fba1",
   "metadata": {},
   "outputs": [],
   "source": [
    "b=[[1, 2], [3, 4], [5, 6, 7]]\n",
    "def new_list(b):\n",
    "    for i in b:\n",
    "        i.reverse()\n",
    "    b.reverse()\n",
    "    return(b)"
   ]
  },
  {
   "cell_type": "code",
   "execution_count": 9,
   "id": "cb3aacd3",
   "metadata": {},
   "outputs": [
    {
     "data": {
      "text/plain": [
       "[[1, 2], [3, 4], [5, 6, 7]]"
      ]
     },
     "execution_count": 9,
     "metadata": {},
     "output_type": "execute_result"
    }
   ],
   "source": [
    "b"
   ]
  },
  {
   "cell_type": "code",
   "execution_count": 11,
   "id": "670cc17a",
   "metadata": {},
   "outputs": [
    {
     "data": {
      "text/plain": [
       "[[7, 6, 5], [4, 3], [2, 1]]"
      ]
     },
     "execution_count": 11,
     "metadata": {},
     "output_type": "execute_result"
    }
   ],
   "source": [
    "new_list(b)"
   ]
  }
 ],
 "metadata": {
  "kernelspec": {
   "display_name": "Python 3 (ipykernel)",
   "language": "python",
   "name": "python3"
  },
  "language_info": {
   "codemirror_mode": {
    "name": "ipython",
    "version": 3
   },
   "file_extension": ".py",
   "mimetype": "text/x-python",
   "name": "python",
   "nbconvert_exporter": "python",
   "pygments_lexer": "ipython3",
   "version": "3.10.9"
  }
 },
 "nbformat": 4,
 "nbformat_minor": 5
}
